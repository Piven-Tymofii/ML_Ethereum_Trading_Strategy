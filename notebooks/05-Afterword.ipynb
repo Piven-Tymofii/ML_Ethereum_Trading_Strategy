{
 "cells": [
  {
   "cell_type": "markdown",
   "id": "ee5b307c",
   "metadata": {},
   "source": [
    "# This project finally came to its logical ending,    \n",
    "# and I can surely say that it turned out to be bigger than expected."
   ]
  },
  {
   "cell_type": "markdown",
   "id": "272d7eb6",
   "metadata": {},
   "source": [
    "I wanted to **Thank you** for being interested in this little research of mine,  \n",
    "hope you found it interesting or maybe even useful :) \n",
    "\n",
    "\n",
    "Now I am waiting for you to test the training bot we created: \n",
    "- Just search for it in telegram: `@ml_eth_signal_bot`"
   ]
  },
  {
   "cell_type": "markdown",
   "id": "2cf70e0f",
   "metadata": {},
   "source": [
    "*Here is how the bot performed for me:*\n",
    "1) Predictions that it gave: \n",
    "\n",
    "<img src=\"DATA\\Bot Chat Pred 2025-04-13 143146.png\" alt=\"Alternative text\" />\n",
    "\n",
    "  \n",
    "\n",
    "2) If I want to see the predictions, you can visualize them for yourself like this: \n",
    "  \n",
    "<img src=\"DATA\\Final Predictions.png\" alt=\"Alternative text\" />\n"
   ]
  },
  {
   "cell_type": "markdown",
   "id": "81cf8da2",
   "metadata": {},
   "source": [
    "I think these are **great** results. \n",
    "  \n",
    "\n",
    "- But we can definitely try to **improve** them!    \n",
    "I am currently collecting my own dataset from Coingecko since it has free-plan restrictions:       \n",
    "There is a need to run auto-collect for a month or so, and then retrain our models on that data.    \n",
    "- Ofc, this project scales perfectly:   \n",
    "    1) We can add more tokens;    \n",
    "    2) Different time scales for longer-range trades;      \n",
    "    ..."
   ]
  },
  {
   "cell_type": "markdown",
   "id": "36457f74",
   "metadata": {},
   "source": []
  }
 ],
 "metadata": {
  "language_info": {
   "name": "python"
  }
 },
 "nbformat": 4,
 "nbformat_minor": 5
}
